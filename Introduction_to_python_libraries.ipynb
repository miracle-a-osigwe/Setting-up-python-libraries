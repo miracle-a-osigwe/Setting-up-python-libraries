{
  "nbformat": 4,
  "nbformat_minor": 0,
  "metadata": {
    "colab": {
      "name": "Introduction to python libraries.ipynb",
      "provenance": [],
      "collapsed_sections": [],
      "authorship_tag": "ABX9TyPHxmduxVEI9S3SFETJCrJW",
      "include_colab_link": true
    },
    "kernelspec": {
      "name": "python3",
      "display_name": "Python 3"
    }
  },
  "cells": [
    {
      "cell_type": "markdown",
      "metadata": {
        "id": "view-in-github",
        "colab_type": "text"
      },
      "source": [
        "<a href=\"https://colab.research.google.com/github/miracle-a-osigwe/Setting-up-python-libraries/blob/master/Introduction_to_python_libraries.ipynb\" target=\"_parent\"><img src=\"https://colab.research.google.com/assets/colab-badge.svg\" alt=\"Open In Colab\"/></a>"
      ]
    },
    {
      "cell_type": "code",
      "metadata": {
        "id": "athuwYb0pC7q",
        "colab_type": "code",
        "colab": {}
      },
      "source": [
        "#inbuilt functions that can be used to initialize numpy\n",
        "\n",
        "# a 2x3 array with random values\n",
        "np.random.random((2, 3)) = \n",
        "                      array([[0.60793904, 0.02881965, 0.73022145],\n",
        "                            [0.34183628, 0.63274067, 0.07945224]])\n",
        "# a 2x3 array of zeros\n",
        "np.zeros((2, 3)) = array([[0., 0., 0.],[0., 0., 0.]])\n",
        "# a 2x3 array of ones\n",
        "np.zeros((2, 3)) = array([[1., 1., 1.], [1., 1., 1.]])\n",
        "# a 2x3 array of ones\n",
        "np.zeros((2, 3)) = array([[1., 1., 1.], [1., 1., 1.]])\n",
        "# a 3x3 identity matrix \n",
        "np.zeros(3) = array([[1., 0., 0.],[0., 1., 0.],[0., 0., 1.]])\n",
        "\n"
      ],
      "execution_count": null,
      "outputs": []
    },
    {
      "cell_type": "code",
      "metadata": {
        "id": "_E9LUsEYpYPm",
        "colab_type": "code",
        "colab": {}
      },
      "source": [
        "#Indexing with arrays & Using arrays for data processing \n",
        "#The elements in the example arrays above can be accessed by indexing like lists in Python such that:\n",
        "a[0] = 6,  a[3] = 9, b[0, 0] = 1 , b[1, 2] = 6 c[0, 1] = 8.  \n",
        "\n",
        "#Elements in arrays  can also be retrieved by slicing rows and columns or a combination of indexing and slicing.\n",
        "d[1,  0:2] = array([9., 8.])\n",
        "\n",
        "e = np.array([[10, 11, 12],[13, 14, 15], \n",
        "              [16, 17, 18],[19, 20, 21]])\n",
        "\n",
        "# slicing\n",
        "e[:3, :2] = array([[10, 11], [13, 14],[16, 17]])\n",
        "\n",
        "#There are other advanced methods of indexing which are shown below.\n",
        "# integer indexing\n",
        "e[[2, 0, 3, 1],[2, 1, 0, 2]] = array([18, 11, 19, 15])\n",
        "\n",
        "# boolean indexing meeting a specified condition\n",
        "e[e>15] = array([16, 17, 18, 19, 20, 21])\n"
      ],
      "execution_count": null,
      "outputs": []
    },
    {
      "cell_type": "code",
      "metadata": {
        "id": "5mYYTs_PoXXk",
        "colab_type": "code",
        "colab": {
          "base_uri": "https://localhost:8080/",
          "height": 389
        },
        "outputId": "08c0c745-1978-467e-fdbf-acedfb6286ae"
      },
      "source": [
        "# Import plotting library\n",
        "import matplotlib.pyplot as plt\n",
        "import pandas as pd\n",
        "import seaborn as sns\n",
        "\n",
        "\n",
        "plt.figure(figsize=(7, 4))\n",
        "plt.xticks(rotation=90)\n",
        "fuel_unit = pd.DataFrame({'unit': ['BBL', 'GAL', 'GRAMSU', 'KGU', 'MCF', 'MMBTU', 'MWDTH', 'MWHTH', 'TON'],\n",
        "            'count': [7998, 84, 464, 110, 11354, 180, 95, 100, 8958]})\n",
        "sns.barplot(data=fuel_unit, x='unit', y='count')\n",
        "plt.xlabel('Fuel Unit')\n",
        "\n",
        "#Because of the extreme range of the values for the fuel unit, we can plot the barchart by taking the logarithm of the y-axis as follows:\n",
        "\n",
        "\n",
        "g = sns.barplot(data=fuel_unit, x='unit', y='count')\n",
        "g.set_yscale(\"log\")\n",
        "g.set_ylim(1, 12000)\n",
        "plt.xlabel('Fuel Unit')"
      ],
      "execution_count": 1,
      "outputs": [
        {
          "output_type": "stream",
          "text": [
            "/usr/local/lib/python3.6/dist-packages/statsmodels/tools/_testing.py:19: FutureWarning: pandas.util.testing is deprecated. Use the functions in the public API at pandas.testing instead.\n",
            "  import pandas.util.testing as tm\n"
          ],
          "name": "stderr"
        },
        {
          "output_type": "execute_result",
          "data": {
            "text/plain": [
              "Text(0.5, 0, 'Fuel Unit')"
            ]
          },
          "metadata": {
            "tags": []
          },
          "execution_count": 1
        },
        {
          "output_type": "display_data",
          "data": {
            "image/png": "[encoded data removed]",
            "text/plain": [
              "<Figure size 504x288 with 1 Axes>"
            ]
          },
          "metadata": {
            "tags": [],
            "needs_background": "light"
          }
        }
      ]
    }
  ]
}